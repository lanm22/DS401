{
 "cells": [
  {
   "cell_type": "markdown",
   "metadata": {},
   "source": [
    "# Modeling CART-mRNA Nanoparticle Volume Fractions\n",
    "\n",
    "This notebook includes code to model the volume fractions of water, mRNA, and the various components of CART polymers (initiator, lipid block, cationic block) within a CART-mRNA nanoparticle. The calculations implemented here are explained in detail in the Word document called \"Updated_mRNA_CART_Volume_Calculations_IsaacA_091820\", and the chemical structures of CART polymers referenced are shown as embedded images in that document.\n"
   ]
  },
  {
   "cell_type": "code",
   "execution_count": 67,
   "metadata": {},
   "outputs": [],
   "source": [
    "import numpy as np\n",
    "import scipy.constants as constants"
   ]
  },
  {
   "cell_type": "markdown",
   "metadata": {},
   "source": [
    "This function creates a numpy array (17 columns, 1 for each piece of information we want to record) for each CART (lipid, cation, block numbers, NP radius). The initiator isn't included since it's the same for all. Then calculate volume fractions of mRNA, lipid, cation, mRNA numbers, and lipid numbers for some range of charge ratios (0.5, 1, 5, 10, 20) and percent water (20, 40, 60, 80). Iterate through all charge ratios and water percentages. Finally, save the completed array as csv file."
   ]
  },
  {
   "cell_type": "code",
   "execution_count": 79,
   "metadata": {},
   "outputs": [],
   "source": [
    "from numpy import savetxt\n",
    "import pandas as pd"
   ]
  },
  {
   "cell_type": "markdown",
   "metadata": {},
   "source": [
    "# The following high-throughput code works!!"
   ]
  },
  {
   "cell_type": "code",
   "execution_count": 64,
   "metadata": {},
   "outputs": [],
   "source": [
    "# try V2\n",
    "charge_ratios = [0.5,0.5,0.5,0.5,1,1,1,1,5,5,5,5,5,10,10,10,10,10,20,20,20,20,20]\n",
    "percent_water = [20, 40, 60, 80,20, 40, 60, 80,20, 40, 60, 80,20, 40, 60, 80,20, 40, 60, 80]\n",
    "\n",
    "array = np.zeros((20,7)) # 20 rows, 5 columns(volume fractions that spit out)\n",
    "# enter inputs for the function\n",
    "def calc_volume_fraction(cart_lipid, cart_cation, cart_lipid_block_num, cart_cation_block_num, particle_radius):\n",
    "    #\"This code calculates a cart molecule's volume fractions, number of mRNA and carts per nano\n",
    "   # particle and stores them in an excel file.\"\n",
    "    \n",
    "    # initialize charge ratio and percentage water\n",
    "    cr = int(0)\n",
    "    pw = int(0)\n",
    "    \n",
    "    cart_lipid = str(cart_lipid)\n",
    "    cart_cation = str(cart_cation)\n",
    "\n",
    "    for cr in range(0,20): \n",
    "        charge_ratio = charge_ratios[cr]\n",
    "        water_mass_percent = percent_water[pw]\n",
    "    \n",
    "        single_polymer_volume = calculate_cart_volume('Benzyl', cart_lipid, \\\n",
    "                        cart_lipid_block_num,cart_cation,cart_cation_block_num, output='volume')\n",
    "\n",
    "        single_polymer_mass = calculate_cart_mass('Benzyl', cart_lipid, cart_lipid_block_num, \\\n",
    "                                    cart_cation, cart_cation_block_num, output='mass')\n",
    "\n",
    "        carts_per_mRNA = calculate_cart_polymers_per_mRNA(charge_ratio,cart_cation,cart_cation_block_num)\n",
    "\n",
    "        mRNA_molecules,cart_to_mRNA, water_to_mRNA = calculate_mRNA_cart_water_ratio(water_mass_percent, \\\n",
    "                        charge_ratio, cart_cation, cart_cation_block_num, single_polymer_mass)\n",
    "\n",
    "        molecules_mRNA_per_particle, molecules_polymer_per_particle, molecules_water_per_particle \\\n",
    "                    = calculate_molecules_per_particle(particle_radius, water_mass_percent, charge_ratio, \\\n",
    "                    cart_cation, cart_cation_block_num, single_polymer_mass, single_polymer_volume)\n",
    "    \n",
    "        volume_mRNA_per_particle, volume_polymer_per_particle, volume_water_per_particle \\\n",
    "                    = calculate_component_volumes_per_particle(molecules_mRNA_per_particle, \\\n",
    "                    molecules_polymer_per_particle, molecules_water_per_particle, single_polymer_volume)\n",
    "    \n",
    "        mRNA_np_fraction, water_np_fraction, initiator_np_fraction, lipid_np_fraction, \\\n",
    "            cation_np_fraction = calculate_particle_volume_fractions(volume_mRNA_per_particle, \\\n",
    "            volume_polymer_per_particle, volume_water_per_particle, 'Benzyl', cart_lipid, \\\n",
    "            cart_lipid_block_num, cart_cation, cart_cation_block_num)\n",
    "            \n",
    "        array[cr][0] = mRNA_np_fraction\n",
    "        array[cr][1] = water_np_fraction\n",
    "        array[cr][2] = initiator_np_fraction\n",
    "        array[cr][3] = lipid_np_fraction\n",
    "        array[cr][4] = cation_np_fraction\n",
    "        array[cr][5] = molecules_mRNA_per_particle\n",
    "        array[cr][6] = molecules_polymer_per_particle\n",
    "           \n",
    "        cr += 1\n",
    "        pw += 1\n",
    "        #pw = int(0)\n",
    "    \n",
    "    df=pd.DataFrame(array, columns = ['mRNA_np_fraction', 'water_np_fraction', 'initiator_np_fraction', \\\n",
    "                                      'lipid_np_fraction','cation_np_fraction','mRNA_number','CART_number'], \\\n",
    "                    index = ['0.5_20','0.5_40','0.5_60','0.5_80','1_20','1_40','1_60','1_80','5_20','5_40',\\\n",
    "                             '5_60','5_80','10_20','10_40','10_60','10_80','20_20','20_40','20_60','20_80'])\n",
    "#    print(df)    \n",
    "    name = str(cart_lipid)+\"_\" + str(cart_lipid_block_num) +\"_\"+ str(cart_cation) +\"_\"+ str(cart_cation_block_num)+\".xlsx\"\n",
    "#    print(name)\n",
    "    df.to_excel(name)\n",
    "#    savetxt('name.csv', array, delimiter=',') # not sure??"
   ]
  },
  {
   "cell_type": "code",
   "execution_count": 23,
   "metadata": {},
   "outputs": [],
   "source": [
    "calc_volume_fraction('Oleyl', 'Glycine', 10, 11, 100)"
   ]
  },
  {
   "cell_type": "code",
   "execution_count": 24,
   "metadata": {},
   "outputs": [],
   "source": [
    "calc_volume_fraction('Dodecyl', 'Glycine', 13, 11, 100)"
   ]
  },
  {
   "cell_type": "code",
   "execution_count": 25,
   "metadata": {},
   "outputs": [],
   "source": [
    "calc_volume_fraction('Dodecyl', 'Pip', 14, 8, 100)"
   ]
  },
  {
   "cell_type": "code",
   "execution_count": 26,
   "metadata": {},
   "outputs": [],
   "source": [
    "calc_volume_fraction('Nonenyl', 'Glycine', 10, 10, 100)"
   ]
  },
  {
   "cell_type": "code",
   "execution_count": 27,
   "metadata": {},
   "outputs": [],
   "source": [
    "calc_volume_fraction('Dodecyl', 'Lysine', 14, 8, 100)"
   ]
  },
  {
   "cell_type": "code",
   "execution_count": 20,
   "metadata": {},
   "outputs": [],
   "source": [
    "calc_volume_fraction('Dodecyl', 'Ornithine', 15, 5, 100)"
   ]
  },
  {
   "cell_type": "code",
   "execution_count": null,
   "metadata": {},
   "outputs": [],
   "source": [
    "#calc_volume_fraction('Lip', 'Ornithine', )"
   ]
  },
  {
   "cell_type": "markdown",
   "metadata": {},
   "source": [
    "# Calculate all integer combinations of blocks"
   ]
  },
  {
   "cell_type": "code",
   "execution_count": 65,
   "metadata": {},
   "outputs": [],
   "source": [
    "array = np.zeros((256,8))\n",
    "df = pd.DataFrame(array, columns = ['CART','mRNA_np_fraction', 'water_np_fraction', 'initiator_np_fraction', \\\n",
    "                                      'lipid_np_fraction','cation_np_fraction','mRNA_number','CART_number'])\n",
    "particle_radius = 100\n",
    "\n",
    "def diff_block_ratios(cart_lipid, cart_cation, charge_ratio = 10, water_mass_percent = 60):\n",
    "    # This code calculates volume fractions, number of mRNA, and number of CARTs per nanopartile\n",
    "    # at different block ratios, storing them in an excel file\n",
    "    \n",
    "    cart_lipid_block_num = 5\n",
    "    row = 0\n",
    "    for cart_lipid_block_num in range(5,21):\n",
    "        cart_cation_block_num = 5\n",
    "        for cart_cation_block_num in range(5,21):\n",
    "            single_polymer_volume = calculate_cart_volume('Benzyl', cart_lipid,cart_lipid_block_num,cart_cation,cart_cation_block_num, output='volume')\n",
    "            single_polymer_mass = calculate_cart_mass('Benzyl', cart_lipid, cart_lipid_block_num, cart_cation, cart_cation_block_num, output='mass')\n",
    "            carts_per_mRNA = calculate_cart_polymers_per_mRNA(charge_ratio,cart_cation,cart_cation_block_num)\n",
    "            mRNA_molecules,cart_to_mRNA, water_to_mRNA = calculate_mRNA_cart_water_ratio(water_mass_percent, charge_ratio, cart_cation, cart_cation_block_num, single_polymer_mass)\n",
    "\n",
    "            molecules_mRNA_per_particle, molecules_polymer_per_particle, molecules_water_per_particle \\\n",
    "                    = calculate_molecules_per_particle(particle_radius, water_mass_percent, charge_ratio, \\\n",
    "                    cart_cation, cart_cation_block_num, single_polymer_mass, single_polymer_volume)\n",
    "    \n",
    "            volume_mRNA_per_particle, volume_polymer_per_particle, volume_water_per_particle \\\n",
    "                    = calculate_component_volumes_per_particle(molecules_mRNA_per_particle, \\\n",
    "                    molecules_polymer_per_particle, molecules_water_per_particle, single_polymer_volume)\n",
    "    \n",
    "            mRNA_np_fraction, water_np_fraction, initiator_np_fraction, lipid_np_fraction, \\\n",
    "                cation_np_fraction = calculate_particle_volume_fractions(volume_mRNA_per_particle, \\\n",
    "                volume_polymer_per_particle, volume_water_per_particle, 'Benzyl', cart_lipid, \\\n",
    "                cart_lipid_block_num, cart_cation, cart_cation_block_num)\n",
    "            df.iloc[row, 0] = str(cart_lipid) + \"_\" + str(cart_lipid_block_num) + '_' + str(cart_cation) + '_' + str(cart_cation_block_num)\n",
    "            df.iloc[row, 1] = mRNA_np_fraction\n",
    "            df.iloc[row, 2] = water_np_fraction\n",
    "            df.iloc[row, 3] = initiator_np_fraction\n",
    "            df.iloc[row, 4] = lipid_np_fraction\n",
    "            df.iloc[row, 5] = cation_np_fraction\n",
    "            df.iloc[row, 6] = molecules_mRNA_per_particle\n",
    "            df.iloc[row, 7] = molecules_polymer_per_particle\n",
    "            #array[row][6] = molecules_polymer_per_particle\n",
    "        \n",
    "            cart_cation_block_num += 1\n",
    "            row +=1\n",
    "        \n",
    "        cart_lipid_block_num += 1    \n",
    "        \n",
    "    df.set_index(list(df)[0])\n",
    "#    print(df)    \n",
    "    name = str(cart_lipid)+\"_\"+ str(cart_cation) +\".xlsx\"\n",
    "#    print(name)\n",
    "    df.to_excel(name)"
   ]
  },
  {
   "cell_type": "code",
   "execution_count": 78,
   "metadata": {},
   "outputs": [],
   "source": [
    "diff_block_ratios('Dodecyl', 'Glycine')"
   ]
  },
  {
   "cell_type": "code",
   "execution_count": 79,
   "metadata": {},
   "outputs": [],
   "source": [
    "diff_block_ratios('Dodecyl','Lysine')"
   ]
  },
  {
   "cell_type": "code",
   "execution_count": 80,
   "metadata": {},
   "outputs": [],
   "source": [
    "diff_block_ratios('Nonenyl','Glycine')"
   ]
  },
  {
   "cell_type": "code",
   "execution_count": 81,
   "metadata": {},
   "outputs": [],
   "source": [
    "diff_block_ratios('Oleyl','Glycine')"
   ]
  },
  {
   "cell_type": "code",
   "execution_count": 82,
   "metadata": {},
   "outputs": [],
   "source": [
    "diff_block_ratios('Dodecyl','Pip')"
   ]
  },
  {
   "cell_type": "code",
   "execution_count": 17,
   "metadata": {},
   "outputs": [],
   "source": [
    "diff_block_ratios('Oleyl','Pip')"
   ]
  },
  {
   "cell_type": "code",
   "execution_count": 18,
   "metadata": {},
   "outputs": [],
   "source": [
    "diff_block_ratios('Oleyl','Lysine')"
   ]
  },
  {
   "cell_type": "code",
   "execution_count": 19,
   "metadata": {},
   "outputs": [],
   "source": [
    "diff_block_ratios('Nonenyl','Pip')"
   ]
  },
  {
   "cell_type": "code",
   "execution_count": 50,
   "metadata": {},
   "outputs": [],
   "source": [
    "diff_block_ratios('Lipoate','Glycine')"
   ]
  },
  {
   "cell_type": "code",
   "execution_count": 66,
   "metadata": {},
   "outputs": [],
   "source": [
    "diff_block_ratios('Dodecyl','Serine')"
   ]
  },
  {
   "cell_type": "code",
   "execution_count": 20,
   "metadata": {},
   "outputs": [],
   "source": [
    "diff_block_ratios('Nonenyl','Lysine')"
   ]
  },
  {
   "cell_type": "markdown",
   "metadata": {},
   "source": [
    "### calculate volume fractions for Nonenyl Oleyl, assuming lipid:cation ration is 1:1"
   ]
  },
  {
   "cell_type": "code",
   "execution_count": 82,
   "metadata": {},
   "outputs": [],
   "source": [
    "array = np.zeros((256,8))\n",
    "df = pd.DataFrame(array, columns = ['CART','mRNA_np_fraction', 'water_np_fraction', 'initiator_np_fraction', \\\n",
    "                                      'lipid_np_fraction','cation_np_fraction','mRNA_number','CART_number'])\n",
    "particle_radius = 100\n",
    "\n",
    "def diff_block_ratios2(cart_cation, cart_lipid  = 'Nonenyl Oleyl', charge_ratio = 10, water_mass_percent = 60):\n",
    "    # This code calculates volume fractions, number of mRNA, and number of CARTs per nanopartile\n",
    "    # at different block ratios, storing them in an excel file\n",
    "    \n",
    "    cart_lipid_block_num = 5\n",
    "    row = 0\n",
    "    for cart_lipid_block_num in range(5,21):\n",
    "        cart_cation_block_num = 5\n",
    "        for cart_cation_block_num in range(5,21):\n",
    "            single_polymer_volume = calculate_cart_volume('Benzyl', cart_lipid,cart_lipid_block_num,cart_cation,cart_cation_block_num, output='volume')\n",
    "        \n",
    "            single_polymer_mass = calculate_cart_mass('Benzyl', cart_lipid, cart_lipid_block_num, cart_cation, cart_cation_block_num, output='mass')\n",
    "            \n",
    "            carts_per_mRNA = calculate_cart_polymers_per_mRNA(charge_ratio,cart_cation,cart_cation_block_num)\n",
    "            mRNA_molecules,cart_to_mRNA, water_to_mRNA = calculate_mRNA_cart_water_ratio(water_mass_percent, charge_ratio, cart_cation, cart_cation_block_num, single_polymer_mass)\n",
    "\n",
    "            molecules_mRNA_per_particle, molecules_polymer_per_particle, molecules_water_per_particle \\\n",
    "                    = calculate_molecules_per_particle(particle_radius, water_mass_percent, charge_ratio, \\\n",
    "                    cart_cation, cart_cation_block_num, single_polymer_mass, single_polymer_volume)\n",
    "    \n",
    "            volume_mRNA_per_particle, volume_polymer_per_particle, volume_water_per_particle \\\n",
    "                    = calculate_component_volumes_per_particle(molecules_mRNA_per_particle, \\\n",
    "                    molecules_polymer_per_particle, molecules_water_per_particle, single_polymer_volume)\n",
    "    \n",
    "            mRNA_np_fraction, water_np_fraction, initiator_np_fraction, lipid_np_fraction, \\\n",
    "                cation_np_fraction = calculate_particle_volume_fractions(volume_mRNA_per_particle, \\\n",
    "                volume_polymer_per_particle, volume_water_per_particle, 'Benzyl', cart_lipid, \\\n",
    "                cart_lipid_block_num, cart_cation, cart_cation_block_num)\n",
    "            \n",
    "            \n",
    "            df.iloc[row, 0] = str('Nonenyl')+ str(cart_lipid_block_num) + str('Oleyl') + str(cart_lipid_block_num) + '_' + str(cart_cation) + str(cart_cation_block_num)\n",
    "            df.iloc[row, 1] = mRNA_np_fraction\n",
    "            df.iloc[row, 2] = water_np_fraction\n",
    "            df.iloc[row, 3] = initiator_np_fraction\n",
    "            df.iloc[row, 4] = lipid_np_fraction\n",
    "            df.iloc[row, 5] = cation_np_fraction\n",
    "            df.iloc[row, 6] = molecules_mRNA_per_particle\n",
    "            df.iloc[row, 7] = molecules_polymer_per_particle\n",
    "        \n",
    "            cart_cation_block_num += 1\n",
    "            row +=1\n",
    "        \n",
    "        cart_lipid_block_num += 1    \n",
    "        \n",
    "    df.set_index(list(df)[0])   \n",
    "    name = str(cart_lipid)+\"_\"+ str(cart_cation) +'_'+ str('one to one')+\".xlsx\"\n",
    "    df.to_excel(name)"
   ]
  },
  {
   "cell_type": "code",
   "execution_count": 83,
   "metadata": {},
   "outputs": [],
   "source": [
    "diff_block_ratios2('Ornithine')"
   ]
  },
  {
   "cell_type": "markdown",
   "metadata": {},
   "source": [
    "### vary all 3 variables (2 lipids and 1 cation)"
   ]
  },
  {
   "cell_type": "code",
   "execution_count": 20,
   "metadata": {},
   "outputs": [],
   "source": [
    "array = np.zeros((4096,8))\n",
    "df = pd.DataFrame(array, columns = ['CART','mRNA_np_fraction', 'water_np_fraction', 'initiator_np_fraction', \\\n",
    "                                      'lipid_np_fraction','cation_np_fraction','mRNA_number','CART_number'])\n",
    "particle_radius = 100\n",
    "\n",
    "def diff_block_ratios2(cart_lipid1, cart_lipid2, cart_cation, charge_ratio = 10, water_mass_percent = 60):\n",
    "    # This code calculates volume fractions, number of mRNA, and number of CARTs per nanopartile\n",
    "    # at different block ratios, storing them in an excel file\n",
    "    \n",
    "    cart_lipid1_block_num = 1 \n",
    "    row = 0\n",
    "    for cart_lipid1_block_num in range(5,20): # changed to 1 thru 15, anything above 20 would be hard to synthesize\n",
    "        cart_cation_block_num = 5\n",
    "        for cart_lipid2_block_num in range(5,20):\n",
    "            for cart_cation_block_num in range(5,20):\n",
    "                single_polymer_volume = calculate_cart_volume('Benzyl', cart_lipid,cart_lipid_block_num,cart_cation,cart_cation_block_num, output='volume')\n",
    "                single_polymer_mass = calculate_cart_mass('Benzyl', cart_lipid, cart_lipid_block_num, cart_cation, cart_cation_block_num, output='mass')\n",
    "                carts_per_mRNA = calculate_cart_polymers_per_mRNA(charge_ratio,cart_cation,cart_cation_block_num)\n",
    "                mRNA_molecules,cart_to_mRNA, water_to_mRNA = calculate_mRNA_cart_water_ratio(water_mass_percent, charge_ratio, cart_cation, cart_cation_block_num, single_polymer_mass)\n",
    "\n",
    "                molecules_mRNA_per_particle, molecules_polymer_per_particle, molecules_water_per_particle \\\n",
    "                    = calculate_molecules_per_particle(particle_radius, water_mass_percent, charge_ratio, \\\n",
    "                    cart_cation, cart_cation_block_num, single_polymer_mass, single_polymer_volume)\n",
    "    \n",
    "                volume_mRNA_per_particle, volume_polymer_per_particle, volume_water_per_particle \\\n",
    "                    = calculate_component_volumes_per_particle(molecules_mRNA_per_particle, \\\n",
    "                    molecules_polymer_per_particle, molecules_water_per_particle, single_polymer_volume)\n",
    "    \n",
    "                mRNA_np_fraction, water_np_fraction, initiator_np_fraction, lipid_np_fraction, \\\n",
    "                cation_np_fraction = calculate_particle_volume_fractions(volume_mRNA_per_particle, \\\n",
    "                volume_polymer_per_particle, volume_water_per_particle, 'Benzyl', cart_lipid, \\\n",
    "                cart_lipid_block_num, cart_cation, cart_cation_block_num)\n",
    "                \n",
    "                df.iloc[row, 0] = str(cart_lipid1) + \"_\" + str(cart_lipid1_block_num) + \\\n",
    "                            str(cart_lipid2) + \"_\" + str(cart_lipid2_block_num) + \\\n",
    "                            '_' + str(cart_cation) + '_' + str(cart_cation_block_num)\n",
    "                df.iloc[row, 1] = mRNA_np_fraction\n",
    "                df.iloc[row, 2] = water_np_fraction\n",
    "                df.iloc[row, 3] = initiator_np_fraction\n",
    "                df.iloc[row, 4] = lipid_np_fraction\n",
    "                df.iloc[row, 5] = cation_np_fraction\n",
    "                df.iloc[row, 6] = molecules_mRNA_per_particle\n",
    "                df.iloc[row, 7] = molecules_polymer_per_particle\n",
    "            \n",
    "        \n",
    "                cart_cation_block_num += 1\n",
    "                row +=1\n",
    "        \n",
    "        cart_lipid_block_num += 1    \n",
    "        \n",
    "    df.set_index(list(df)[0])\n",
    "#    print(df)    \n",
    "    name = str(cart_lipid1)+\"_\"+ str(cart_lipid2)+\"_\"+ str(cart_cation)+\"_\" +\".xlsx\"\n",
    "#    print(name)\n",
    "    df.to_excel(name)"
   ]
  },
  {
   "cell_type": "code",
   "execution_count": 22,
   "metadata": {},
   "outputs": [],
   "source": [
    "diff_block_ratios('Dodecyl','Ornithine')"
   ]
  },
  {
   "cell_type": "code",
   "execution_count": 21,
   "metadata": {},
   "outputs": [],
   "source": [
    "diff_block_ratios2('mixed lipid', 'Ornithine')"
   ]
  },
  {
   "cell_type": "code",
   "execution_count": 66,
   "metadata": {},
   "outputs": [
    {
     "name": "stdout",
     "output_type": "stream",
     "text": [
      "CART Initiator: Benzyl\n",
      "CART Lipid: Dodecyl\n",
      "CART Lipid Block Number: 5\n",
      "CART Cation: Glycine\n",
      "CART Cationic Block Number: 5\n",
      "Cation to anion charge ratio (i.e. 10:1 = 10): 10\n",
      "Percent water by mass (i.e. 80% = 80): 60\n",
      "Cart-mRNA nanoparticle radius (nm) : 100\n",
      "\n",
      "Volume of single CART polymer (cubic angstroms):\n",
      "2057.49\n",
      "Mass of single CART polymer (g):\n",
      "3.787922087692949e-21\n",
      "Number of CART polymer molecules per molecule of mRNA:\n",
      "3858.0\n",
      "Ratio of molecules of mRNA to CART to water in nanoparticles:\n",
      "1.0 3858.0 787086.5943396227\n",
      "Number of molecules of mRNA, CART, and water per nanoparticle:\n",
      "214.17423438235332 826284.1962471191 168573668.7353026\n",
      "Volume of mRNA, CART, and water per nanoparticle (cubic angstroms):\n",
      "101715584.55802035 1700071470.9364848 2387003149.291885\n",
      "Volume fraction of mRNA, water, CART initiator, CART lipid block, CART cationic block per nanoparticle:\n",
      "0.0242828071078359 0.5698550255785875 0.018806846707238627 0.29845562269825926 0.08859969790807874\n"
     ]
    }
   ],
   "source": [
    "interactive_cart_modeling()"
   ]
  }
 ],
 "metadata": {
  "kernelspec": {
   "display_name": "Python 3",
   "language": "python",
   "name": "python3"
  },
  "language_info": {
   "codemirror_mode": {
    "name": "ipython",
    "version": 3
   },
   "file_extension": ".py",
   "mimetype": "text/x-python",
   "name": "python",
   "nbconvert_exporter": "python",
   "pygments_lexer": "ipython3",
   "version": "3.8.8"
  }
 },
 "nbformat": 4,
 "nbformat_minor": 2
}
